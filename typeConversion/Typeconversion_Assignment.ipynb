{
  "nbformat": 4,
  "nbformat_minor": 0,
  "metadata": {
    "colab": {
      "provenance": []
    },
    "kernelspec": {
      "name": "python3",
      "display_name": "Python 3"
    },
    "language_info": {
      "name": "python"
    }
  },
  "cells": [
    {
      "cell_type": "code",
      "execution_count": 2,
      "metadata": {
        "colab": {
          "base_uri": "https://localhost:8080/"
        },
        "id": "nsQm4aNdo0hy",
        "outputId": "52031125-62e3-425b-ccf7-298165b53303"
      },
      "outputs": [
        {
          "output_type": "stream",
          "name": "stdout",
          "text": [
            "Type of a  <class 'int'>\n",
            "Type of b <class 'float'>\n"
          ]
        }
      ],
      "source": [
        "#Covert a iteger to a floatig-poit umber.\n",
        "a = 65\n",
        "b = float(a)\n",
        "print(\"Type of a \", type(a))\n",
        "print(\"Type of b\", type(b))"
      ]
    },
    {
      "cell_type": "code",
      "source": [
        "#Covert a float to a iteger.\n",
        "a = 65.6\n",
        "b = int(a)\n",
        "print(\"Type of a \", type(a))\n",
        "print(\"Type of b\", type(b))\n"
      ],
      "metadata": {
        "colab": {
          "base_uri": "https://localhost:8080/"
        },
        "id": "JNqxlJXZpYZH",
        "outputId": "2f13c346-906d-40e2-ec64-df70aaafd829"
      },
      "execution_count": 4,
      "outputs": [
        {
          "output_type": "stream",
          "name": "stdout",
          "text": [
            "Type of a  <class 'float'>\n",
            "Type of b <class 'int'>\n"
          ]
        }
      ]
    },
    {
      "cell_type": "code",
      "source": [
        "#Covert an integer to a string.\n",
        "a = 123\n",
        "b = str(a)\n",
        "print(\"Type of a \", type(a))\n",
        "print(\"Type of b\", type(b))"
      ],
      "metadata": {
        "colab": {
          "base_uri": "https://localhost:8080/"
        },
        "id": "EqhPfCSmqLM_",
        "outputId": "a8b3c9ca-f6cf-4b14-8a93-fca64924d6b1"
      },
      "execution_count": 6,
      "outputs": [
        {
          "output_type": "stream",
          "name": "stdout",
          "text": [
            "Type of a  <class 'int'>\n",
            "Type of b <class 'str'>\n"
          ]
        }
      ]
    },
    {
      "cell_type": "code",
      "source": [
        "#Covert a li%t to a tuple.\n",
        "li = [1,2,3,4,5]\n",
        "tu = tuple(li)\n",
        "print(\"Type of li \", type(li))\n",
        "print(\"Type of tu\", type(tu))"
      ],
      "metadata": {
        "colab": {
          "base_uri": "https://localhost:8080/"
        },
        "id": "tiCY80B-qaO6",
        "outputId": "daa564ad-923a-4906-a678-531fc2b8b018"
      },
      "execution_count": 8,
      "outputs": [
        {
          "output_type": "stream",
          "name": "stdout",
          "text": [
            "Type of li  <class 'list'>\n",
            "Type of tu <class 'tuple'>\n"
          ]
        }
      ]
    },
    {
      "cell_type": "code",
      "source": [
        "#Covert a tuple to a list.\n",
        "tu = (1,2,3,4,5)\n",
        "li = list(li)\n",
        "print(\"Type of li \", type(li))\n",
        "print(\"Type of tu\", type(tu))"
      ],
      "metadata": {
        "colab": {
          "base_uri": "https://localhost:8080/"
        },
        "id": "ztSSySfAqx9D",
        "outputId": "92be807d-c2ca-4cfc-8c52-f3481f336f3f"
      },
      "execution_count": 13,
      "outputs": [
        {
          "output_type": "stream",
          "name": "stdout",
          "text": [
            "Type of li  <class 'list'>\n",
            "Type of tu <class 'tuple'>\n"
          ]
        }
      ]
    },
    {
      "cell_type": "code",
      "source": [
        "# Convert a decimal number to binary.\n",
        "del bin\n",
        "n = 15\n",
        "binary_string = bin(n)\n",
        "binary_string = binary_string.replace(\"0b\", \"\")\n",
        "print(binary_string)\n",
        "\n"
      ],
      "metadata": {
        "colab": {
          "base_uri": "https://localhost:8080/"
        },
        "id": "cEK-cEVurY78",
        "outputId": "7d8f0336-4b61-4f33-e228-a207e61e40b4"
      },
      "execution_count": 24,
      "outputs": [
        {
          "output_type": "stream",
          "name": "stdout",
          "text": [
            "1111\n"
          ]
        }
      ]
    },
    {
      "cell_type": "code",
      "source": [
        "# Convert a binary to decimal.\n",
        "bin = \"1001\"\n",
        "print(int(bin,2))"
      ],
      "metadata": {
        "colab": {
          "base_uri": "https://localhost:8080/"
        },
        "id": "2YUeHqAzsGP-",
        "outputId": "3e084a1f-ee5d-4744-d898-3a5195245052"
      },
      "execution_count": 25,
      "outputs": [
        {
          "output_type": "stream",
          "name": "stdout",
          "text": [
            "9\n"
          ]
        }
      ]
    },
    {
      "cell_type": "code",
      "source": [
        "#Convert a non-zero number to a boolean.\n",
        "a = 12\n",
        "b = bool(a)\n",
        "print(\"Type of a \", type(a))\n",
        "print(\"Type of b\", type(b))"
      ],
      "metadata": {
        "colab": {
          "base_uri": "https://localhost:8080/"
        },
        "id": "37D9uzZRzT8D",
        "outputId": "dd801c8f-ccf4-4532-e9cf-48e42a293b5d"
      },
      "execution_count": 27,
      "outputs": [
        {
          "output_type": "stream",
          "name": "stdout",
          "text": [
            "Type of a  <class 'int'> 12\n",
            "Type of b <class 'bool'> True\n"
          ]
        }
      ]
    }
  ]
}